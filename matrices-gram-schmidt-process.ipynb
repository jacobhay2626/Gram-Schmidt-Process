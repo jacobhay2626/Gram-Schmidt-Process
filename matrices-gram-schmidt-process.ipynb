{
 "cells": [
  {
   "cell_type": "markdown",
   "id": "f6f866a7",
   "metadata": {
    "papermill": {
     "duration": 0.003779,
     "end_time": "2024-05-27T16:34:06.357788",
     "exception": false,
     "start_time": "2024-05-27T16:34:06.354009",
     "status": "completed"
    },
    "tags": []
   },
   "source": [
    "# The Gram-Schmidt Process"
   ]
  },
  {
   "cell_type": "markdown",
   "id": "310c07d1",
   "metadata": {
    "papermill": {
     "duration": 0.002968,
     "end_time": "2024-05-27T16:34:06.364312",
     "exception": false,
     "start_time": "2024-05-27T16:34:06.361344",
     "status": "completed"
    },
    "tags": []
   },
   "source": [
    "The Gram-Schmidt process is a method for constructing an orthonormal basis of a space that a set of given vectors span. It can also be used to determine the dimension of that space, which may be different than the dimension of the vectors themselves or the number of vectors provided to span the space. "
   ]
  },
  {
   "cell_type": "markdown",
   "id": "c7512117",
   "metadata": {
    "papermill": {
     "duration": 0.003619,
     "end_time": "2024-05-27T16:34:06.371237",
     "exception": false,
     "start_time": "2024-05-27T16:34:06.367618",
     "status": "completed"
    },
    "tags": []
   },
   "source": [
    "The Gram Schmidt process involves taking a list of vectors and form an orthonormal basis from this set. The procedure allows us to determine the dimension of the space spanned by the basis vectors, which is equal to or less than the space which the vectors sit. "
   ]
  },
  {
   "cell_type": "code",
   "execution_count": 1,
   "id": "991b362f",
   "metadata": {
    "execution": {
     "iopub.execute_input": "2024-05-27T16:34:06.379798Z",
     "iopub.status.busy": "2024-05-27T16:34:06.379400Z",
     "iopub.status.idle": "2024-05-27T16:34:06.401775Z",
     "shell.execute_reply": "2024-05-27T16:34:06.400731Z"
    },
    "papermill": {
     "duration": 0.029602,
     "end_time": "2024-05-27T16:34:06.404288",
     "exception": false,
     "start_time": "2024-05-27T16:34:06.374686",
     "status": "completed"
    },
    "tags": []
   },
   "outputs": [],
   "source": [
    "import numpy as np \n",
    "import numpy.linalg as la\n",
    "\n",
    "verySmallNumber = 1e-14 \n",
    "\n",
    "# First function will perform the procedure on 4 basis vectors\n",
    "# Will then take this list of vectors as the columns of a matrix 4\n",
    "# Will then go through the vectors one at a time and set them to be orthogonal to add all the vectors that came before it. Before normalising. \n",
    "\n",
    "def gsBasis4(A) :\n",
    "    B = np.array(A, dtype=np.float_)\n",
    "    \n",
    "    # Zeroth column has no other vectors to make it normal to, so only need to normalise it. (Divide by its modulus)\n",
    "    B[:,0] = B[:,0] / la.norm(B[:,0])\n",
    "    \n",
    "    # First column: Need to subtract any overlap with our new zeroth vector\n",
    "    B[:,1] = B[:,1] - B[:,1] @ B[:,0] * B[:,0]\n",
    "    \n",
    "    # If there is anything left after that subtraction, then B[:,1] is linearly independent of B[:,0]\n",
    "    # If this is the case then can normalise it, otherwise the vector will be set to zero. \n",
    "    \n",
    "    if la.norm(B[:,1]) > verySmallNumber :\n",
    "        B[:,1] = B[:,1] / la.norm(B[:,1])\n",
    "    else: \n",
    "        B[:,1] = np.zeros_like(B[:,1])\n",
    "        \n",
    "    # Repeat for column 2\n",
    "    B[:,2] = B[:,2] - B[:,2] @ B[:,0] * B[:,0]\n",
    "    B[:,2] = B[:,2] - B[:,2] @ B[:,1] * B[:,1]\n",
    "    \n",
    "    if la.norm(B[:,2]) > verySmallNumber :\n",
    "        B[:,2] = B[:,2] / la.norm(B[:,2])\n",
    "    else: \n",
    "        B[:,2] = np.zeros_like(B[:,2])\n",
    "    \n",
    "    \n",
    "    # Column 3\n",
    "    B[:,3] = B[:,3] - B[:,3] @ B[:,0] * B[:,0]\n",
    "    B[:,3] = B[:,3] - B[:,3] @ B[:,1] * B[:,1]\n",
    "    B[:,3] = B[:,3] - B[:,3] @ B[:,2] * B[:,2]\n",
    "    \n",
    "    if la.norm(B[:,3]) > verySmallNumber :\n",
    "        B[:,3] = B[:,3] / la.norm(B[:,3])\n",
    "    else : \n",
    "        B[:,3] = np.zeros_like(B[:,3])\n",
    "        \n",
    "    return B\n",
    "\n",
    "# I am now going to adapt the function to generalise the procedure\n",
    "# Using a for loop to iterate the process for each vector rather than repeating the code.\n",
    "\n",
    "def gsBasis(A) :\n",
    "    B = np.array(A, dtype=np.float_)\n",
    "    \n",
    "    # Loop over all vectors, starting with zero, label with i \n",
    "    for i in range(B.shape[1]) :\n",
    "        # Loop over all previous vectors, j, to subtract\n",
    "        for j in range(i): \n",
    "            #Subtract overlap with previous vectors\n",
    "            B[:,i] = B[:,i] - B[:,i] @ B[:, j] * B[:,j]\n",
    "        # Normalisation test for B[:,i]\n",
    "        if la.norm(B[:,i]) > verySmallNumber :\n",
    "            B[:, i] = B[:, i] / la.norm(B[:, i])\n",
    "        else: \n",
    "            B[:, i] = np.zeros_like(B[:, i])\n",
    "            \n",
    "    return B\n",
    "\n",
    "\n",
    "# Function to use the GS process to calc the dimension spanned by the list of vectors\n",
    "# Since each vector is normalised to one, or is zero, the sum of all the norms will be the dimension\n",
    "\n",
    "def dimensions(A) : \n",
    "    return np.sum(la.norm(gsBasis(A), axis=0))"
   ]
  },
  {
   "cell_type": "code",
   "execution_count": 2,
   "id": "6a9c225a",
   "metadata": {
    "execution": {
     "iopub.execute_input": "2024-05-27T16:34:06.415063Z",
     "iopub.status.busy": "2024-05-27T16:34:06.413557Z",
     "iopub.status.idle": "2024-05-27T16:34:06.425618Z",
     "shell.execute_reply": "2024-05-27T16:34:06.424455Z"
    },
    "papermill": {
     "duration": 0.019332,
     "end_time": "2024-05-27T16:34:06.428062",
     "exception": false,
     "start_time": "2024-05-27T16:34:06.408730",
     "status": "completed"
    },
    "tags": []
   },
   "outputs": [
    {
     "data": {
      "text/plain": [
       "array([[ 0.40824829, -0.1814885 ,  0.04982278,  0.89325973],\n",
       "       [ 0.        ,  0.1088931 ,  0.99349591, -0.03328918],\n",
       "       [ 0.81649658,  0.50816781, -0.06462163, -0.26631346],\n",
       "       [ 0.40824829, -0.83484711,  0.07942048, -0.36063281]])"
      ]
     },
     "execution_count": 2,
     "metadata": {},
     "output_type": "execute_result"
    }
   ],
   "source": [
    "V = np.array([[1,0,2,6],\n",
    "              [0,1,8,2],\n",
    "              [2,8,3,1],\n",
    "              [1,-6,2,3]], dtype=np.float_)\n",
    "gsBasis4(V)"
   ]
  },
  {
   "cell_type": "code",
   "execution_count": 3,
   "id": "e9f0bf6b",
   "metadata": {
    "execution": {
     "iopub.execute_input": "2024-05-27T16:34:06.436946Z",
     "iopub.status.busy": "2024-05-27T16:34:06.436558Z",
     "iopub.status.idle": "2024-05-27T16:34:06.445725Z",
     "shell.execute_reply": "2024-05-27T16:34:06.444706Z"
    },
    "papermill": {
     "duration": 0.01651,
     "end_time": "2024-05-27T16:34:06.448212",
     "exception": false,
     "start_time": "2024-05-27T16:34:06.431702",
     "status": "completed"
    },
    "tags": []
   },
   "outputs": [
    {
     "data": {
      "text/plain": [
       "array([[ 0.23643312,  0.18771349,  0.22132104],\n",
       "       [ 0.15762208,  0.74769023, -0.64395812],\n",
       "       [ 0.15762208,  0.57790444,  0.72904263],\n",
       "       [ 0.94573249, -0.26786082, -0.06951101]])"
      ]
     },
     "execution_count": 3,
     "metadata": {},
     "output_type": "execute_result"
    }
   ],
   "source": [
    "A = np.array([[3,2,3],\n",
    "              [2,5,-1],\n",
    "              [2,4,8],\n",
    "              [12,2,1]], dtype=np.float_)\n",
    "gsBasis(A)"
   ]
  },
  {
   "cell_type": "code",
   "execution_count": 4,
   "id": "22deb68f",
   "metadata": {
    "execution": {
     "iopub.execute_input": "2024-05-27T16:34:06.457160Z",
     "iopub.status.busy": "2024-05-27T16:34:06.456793Z",
     "iopub.status.idle": "2024-05-27T16:34:06.464405Z",
     "shell.execute_reply": "2024-05-27T16:34:06.463200Z"
    },
    "papermill": {
     "duration": 0.015037,
     "end_time": "2024-05-27T16:34:06.466885",
     "exception": false,
     "start_time": "2024-05-27T16:34:06.451848",
     "status": "completed"
    },
    "tags": []
   },
   "outputs": [
    {
     "data": {
      "text/plain": [
       "3.0"
      ]
     },
     "execution_count": 4,
     "metadata": {},
     "output_type": "execute_result"
    }
   ],
   "source": [
    "dimensions(A)"
   ]
  },
  {
   "cell_type": "code",
   "execution_count": 5,
   "id": "97847003",
   "metadata": {
    "execution": {
     "iopub.execute_input": "2024-05-27T16:34:06.476279Z",
     "iopub.status.busy": "2024-05-27T16:34:06.475876Z",
     "iopub.status.idle": "2024-05-27T16:34:06.486673Z",
     "shell.execute_reply": "2024-05-27T16:34:06.484689Z"
    },
    "papermill": {
     "duration": 0.01846,
     "end_time": "2024-05-27T16:34:06.489194",
     "exception": false,
     "start_time": "2024-05-27T16:34:06.470734",
     "status": "completed"
    },
    "tags": []
   },
   "outputs": [
    {
     "data": {
      "text/plain": [
       "array([[ 0.93704257, -0.12700832, -0.32530002,  0.        ,  0.        ],\n",
       "       [ 0.31234752,  0.72140727,  0.61807005,  0.        ,  0.        ],\n",
       "       [ 0.15617376, -0.6807646 ,  0.71566005,  0.        ,  0.        ]])"
      ]
     },
     "execution_count": 5,
     "metadata": {},
     "output_type": "execute_result"
    }
   ],
   "source": [
    "B = np.array([[6,2,1,7,5],\n",
    "              [2,8,5,-4,1],\n",
    "              [1,-6,3,2,8]], dtype=np.float_)\n",
    "gsBasis(B)"
   ]
  },
  {
   "cell_type": "code",
   "execution_count": 6,
   "id": "6f144bd9",
   "metadata": {
    "execution": {
     "iopub.execute_input": "2024-05-27T16:34:06.498893Z",
     "iopub.status.busy": "2024-05-27T16:34:06.498490Z",
     "iopub.status.idle": "2024-05-27T16:34:06.506773Z",
     "shell.execute_reply": "2024-05-27T16:34:06.505723Z"
    },
    "papermill": {
     "duration": 0.015942,
     "end_time": "2024-05-27T16:34:06.509199",
     "exception": false,
     "start_time": "2024-05-27T16:34:06.493257",
     "status": "completed"
    },
    "tags": []
   },
   "outputs": [
    {
     "data": {
      "text/plain": [
       "3.0"
      ]
     },
     "execution_count": 6,
     "metadata": {},
     "output_type": "execute_result"
    }
   ],
   "source": [
    "dimensions(B)"
   ]
  },
  {
   "cell_type": "code",
   "execution_count": 7,
   "id": "b99c0d1c",
   "metadata": {
    "execution": {
     "iopub.execute_input": "2024-05-27T16:34:06.519209Z",
     "iopub.status.busy": "2024-05-27T16:34:06.518436Z",
     "iopub.status.idle": "2024-05-27T16:34:06.526339Z",
     "shell.execute_reply": "2024-05-27T16:34:06.525349Z"
    },
    "papermill": {
     "duration": 0.015305,
     "end_time": "2024-05-27T16:34:06.528638",
     "exception": false,
     "start_time": "2024-05-27T16:34:06.513333",
     "status": "completed"
    },
    "tags": []
   },
   "outputs": [
    {
     "data": {
      "text/plain": [
       "array([[0.70710678, 0.        , 0.        ],\n",
       "       [0.        , 1.        , 0.        ],\n",
       "       [0.70710678, 0.        , 0.        ]])"
      ]
     },
     "execution_count": 7,
     "metadata": {},
     "output_type": "execute_result"
    }
   ],
   "source": [
    "C = np.array([[1,0,2],\n",
    "              [0,1,-3],\n",
    "              [1,0,2]], dtype=np.float_)\n",
    "gsBasis(C)"
   ]
  },
  {
   "cell_type": "code",
   "execution_count": 8,
   "id": "6c527133",
   "metadata": {
    "execution": {
     "iopub.execute_input": "2024-05-27T16:34:06.538571Z",
     "iopub.status.busy": "2024-05-27T16:34:06.538127Z",
     "iopub.status.idle": "2024-05-27T16:34:06.546268Z",
     "shell.execute_reply": "2024-05-27T16:34:06.545192Z"
    },
    "papermill": {
     "duration": 0.015752,
     "end_time": "2024-05-27T16:34:06.548578",
     "exception": false,
     "start_time": "2024-05-27T16:34:06.532826",
     "status": "completed"
    },
    "tags": []
   },
   "outputs": [
    {
     "data": {
      "text/plain": [
       "2.0"
      ]
     },
     "execution_count": 8,
     "metadata": {},
     "output_type": "execute_result"
    }
   ],
   "source": [
    "dimensions(C)"
   ]
  }
 ],
 "metadata": {
  "kaggle": {
   "accelerator": "none",
   "dataSources": [],
   "dockerImageVersionId": 30698,
   "isGpuEnabled": false,
   "isInternetEnabled": true,
   "language": "python",
   "sourceType": "notebook"
  },
  "kernelspec": {
   "display_name": "Python 3",
   "language": "python",
   "name": "python3"
  },
  "language_info": {
   "codemirror_mode": {
    "name": "ipython",
    "version": 3
   },
   "file_extension": ".py",
   "mimetype": "text/x-python",
   "name": "python",
   "nbconvert_exporter": "python",
   "pygments_lexer": "ipython3",
   "version": "3.10.13"
  },
  "papermill": {
   "default_parameters": {},
   "duration": 3.527604,
   "end_time": "2024-05-27T16:34:06.973632",
   "environment_variables": {},
   "exception": null,
   "input_path": "__notebook__.ipynb",
   "output_path": "__notebook__.ipynb",
   "parameters": {},
   "start_time": "2024-05-27T16:34:03.446028",
   "version": "2.5.0"
  }
 },
 "nbformat": 4,
 "nbformat_minor": 5
}
